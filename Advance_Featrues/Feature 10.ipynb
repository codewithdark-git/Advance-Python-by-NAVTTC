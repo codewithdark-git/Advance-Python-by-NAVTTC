{
 "cells": [
  {
   "cell_type": "markdown",
   "metadata": {},
   "source": [
    "##### Asynchronous Programming"
   ]
  },
  {
   "cell_type": "markdown",
   "metadata": {},
   "source": [
    "##### later see the full video on asyncio "
   ]
  },
  {
   "cell_type": "code",
   "execution_count": 1,
   "metadata": {},
   "outputs": [
    {
     "name": "stdout",
     "output_type": "stream",
     "text": [
      "Start processing data...\n",
      "Start fetching Data ...\n",
      "Data fetched successfully.\n",
      "Processing data: 42\n"
     ]
    }
   ],
   "source": [
    "import asyncio\n",
    "\n",
    "# define an asynchronous coroutine\n",
    "async def fetch():\n",
    "    print('Start fetching Data ...')\n",
    "    await asyncio.sleep(2)\n",
    "    print('Data fetched successfully.')\n",
    "    return {'data': 42}\n",
    "\n",
    "# define another asynchronous function that depends on fetch()\n",
    "async def process_data():\n",
    "    print('Start processing data...')\n",
    "    data = await fetch()\n",
    "    print(f'Processing data: {data[\"data\"]}')\n",
    "\n",
    "# define the main entry point for the asynchronous functions\n",
    "async def main():\n",
    "    await process_data()\n",
    "\n",
    "# check if there's already an active event loop\n",
    "if __name__ == \"__main__\":\n",
    "    if not asyncio.get_event_loop().is_running():\n",
    "        asyncio.run(main())\n",
    "    else:\n",
    "        # if the event loop is already running, use create_task\n",
    "        asyncio.create_task(main())\n"
   ]
  },
  {
   "cell_type": "code",
   "execution_count": null,
   "metadata": {},
   "outputs": [],
   "source": []
  }
 ],
 "metadata": {
  "kernelspec": {
   "display_name": "Python 3",
   "language": "python",
   "name": "python3"
  },
  "language_info": {
   "codemirror_mode": {
    "name": "ipython",
    "version": 3
   },
   "file_extension": ".py",
   "mimetype": "text/x-python",
   "name": "python",
   "nbconvert_exporter": "python",
   "pygments_lexer": "ipython3",
   "version": "3.12.4"
  }
 },
 "nbformat": 4,
 "nbformat_minor": 2
}
