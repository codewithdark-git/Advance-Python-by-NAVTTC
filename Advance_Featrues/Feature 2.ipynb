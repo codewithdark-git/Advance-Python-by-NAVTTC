{
 "cells": [
  {
   "cell_type": "markdown",
   "metadata": {},
   "source": [
    "##### Dynamic code execution with `exec()` and `eval()` functions"
   ]
  },
  {
   "cell_type": "code",
   "execution_count": 1,
   "metadata": {},
   "outputs": [],
   "source": [
    "def demonstrate_exec():\n",
    "    code = '''def greet(name):\n",
    "    return f\"Hello, {name}!\"'''\n",
    "\n",
    "    # Execute the code string\n",
    "    local_scope = {}\n",
    "    exec(code, {}, local_scope)\n",
    "    print(local_scope['greet']('Dark'))"
   ]
  },
  {
   "cell_type": "code",
   "execution_count": 2,
   "metadata": {},
   "outputs": [
    {
     "name": "stdout",
     "output_type": "stream",
     "text": [
      "Hello, Dark!\n"
     ]
    }
   ],
   "source": [
    "demonstrate_exec()"
   ]
  },
  {
   "cell_type": "code",
   "execution_count": 6,
   "metadata": {},
   "outputs": [],
   "source": [
    "def demonstrate_eval():\n",
    "    expression = input('Type an Expression: ')\n",
    "    print(f'The Expression is here: {expression}')\n",
    "\n",
    "    result = eval(expression)\n",
    "    print(f'Result of eval : {result}')"
   ]
  },
  {
   "cell_type": "code",
   "execution_count": 10,
   "metadata": {},
   "outputs": [
    {
     "name": "stdout",
     "output_type": "stream",
     "text": [
      "The Expression is here: 2*3\n",
      "Result of eval : 6\n"
     ]
    }
   ],
   "source": [
    "demonstrate_eval()"
   ]
  },
  {
   "cell_type": "code",
   "execution_count": 13,
   "metadata": {},
   "outputs": [],
   "source": [
    "def demonstrate_safe_eval():\n",
    "    expression = input('Type an Expression that uses a, b  and c: ')\n",
    "    variables = {'a': 1, 'b': 2, 'c': 3}\n",
    "    result = eval(expression, {} , variables)\n",
    "    print(f'The result of Safe eval is: {result} ')"
   ]
  },
  {
   "cell_type": "code",
   "execution_count": 16,
   "metadata": {},
   "outputs": [
    {
     "name": "stdout",
     "output_type": "stream",
     "text": [
      "The result of Safe eval is: 9 \n"
     ]
    }
   ],
   "source": [
    "demonstrate_safe_eval()"
   ]
  },
  {
   "cell_type": "code",
   "execution_count": null,
   "metadata": {},
   "outputs": [],
   "source": []
  }
 ],
 "metadata": {
  "kernelspec": {
   "display_name": "Python 3",
   "language": "python",
   "name": "python3"
  },
  "language_info": {
   "codemirror_mode": {
    "name": "ipython",
    "version": 3
   },
   "file_extension": ".py",
   "mimetype": "text/x-python",
   "name": "python",
   "nbconvert_exporter": "python",
   "pygments_lexer": "ipython3",
   "version": "3.12.4"
  }
 },
 "nbformat": 4,
 "nbformat_minor": 2
}
