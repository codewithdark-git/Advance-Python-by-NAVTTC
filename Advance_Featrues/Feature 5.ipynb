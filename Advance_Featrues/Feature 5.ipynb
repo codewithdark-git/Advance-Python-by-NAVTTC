{
 "cells": [
  {
   "cell_type": "markdown",
   "metadata": {},
   "source": [
    "##### Decorators"
   ]
  },
  {
   "cell_type": "code",
   "execution_count": 9,
   "metadata": {},
   "outputs": [],
   "source": [
    "def my_decorator(func):\n",
    "    \"\"\"\n",
    "    A simple decorator that prints a message before and after the\n",
    "    execution of the function\n",
    "    \"\"\"\n",
    "    def Wrapper(*args, **kwargs):\n",
    "        print(\"Before the function execution.\")\n",
    "        result = func(*args, **kwargs)\n",
    "        print(\"After the function execution.\")\n",
    "        return result\n",
    "\n",
    "    return Wrapper  # Return the function, not the result of its execution\n"
   ]
  },
  {
   "cell_type": "code",
   "execution_count": 17,
   "metadata": {},
   "outputs": [],
   "source": [
    "@my_decorator # used decorator like this\n",
    "def say_hello(name):\n",
    "    \"\"\"\n",
    "    A simple function that greets the user.\n",
    "    \"\"\"\n",
    "    print(f'Hello, {name}!')\n",
    "\n",
    "# greet = my_decorator(say_hello)"
   ]
  },
  {
   "cell_type": "code",
   "execution_count": 18,
   "metadata": {},
   "outputs": [
    {
     "name": "stdout",
     "output_type": "stream",
     "text": [
      "Before the function execution.\n",
      "Hello, dark!\n",
      "After the function execution.\n"
     ]
    }
   ],
   "source": [
    "\n",
    "if __name__ == \"__main__\":\n",
    "    say_hello('dark')"
   ]
  },
  {
   "cell_type": "code",
   "execution_count": null,
   "metadata": {},
   "outputs": [],
   "source": []
  }
 ],
 "metadata": {
  "kernelspec": {
   "display_name": "Python 3",
   "language": "python",
   "name": "python3"
  },
  "language_info": {
   "codemirror_mode": {
    "name": "ipython",
    "version": 3
   },
   "file_extension": ".py",
   "mimetype": "text/x-python",
   "name": "python",
   "nbconvert_exporter": "python",
   "pygments_lexer": "ipython3",
   "version": "3.12.4"
  }
 },
 "nbformat": 4,
 "nbformat_minor": 2
}
