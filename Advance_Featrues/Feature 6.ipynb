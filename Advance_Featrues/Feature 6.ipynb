{
 "cells": [
  {
   "cell_type": "markdown",
   "metadata": {},
   "source": [
    "##### Context Manager"
   ]
  },
  {
   "cell_type": "markdown",
   "metadata": {},
   "source": [
    "##### Create own Context Manager"
   ]
  },
  {
   "cell_type": "code",
   "execution_count": 10,
   "metadata": {},
   "outputs": [],
   "source": [
    "class FileManager:\n",
    "    def __init__(self, filename, mode):\n",
    "        self.filename = filename\n",
    "        self.mode = mode\n",
    "        self.file = None\n",
    "\n",
    "    def __enter__(self):\n",
    "        #open the file\n",
    "        self.file = open(self.filename, self.mode)\n",
    "        print(f'Opening file {self.filename}')\n",
    "        return self.file\n",
    "    \n",
    "    def __exit__(self, exc_type, exc_value, traceback):\n",
    "        #close the file\n",
    "        self.file.close()\n",
    "        print(f'Closing file {self.filename}')\n",
    "        #handle exception\n",
    "        if exc_type:\n",
    "            print(f'Exception: {exc_value}')\n",
    "        return True\n"
   ]
  },
  {
   "cell_type": "code",
   "execution_count": 38,
   "metadata": {},
   "outputs": [
    {
     "name": "stdout",
     "output_type": "stream",
     "text": [
      "Opening file ./context_manger.txt\n",
      "successfully written\n",
      "Closing file ./context_manger.txt\n"
     ]
    }
   ],
   "source": [
    "with FileManager('./context_manger.txt', 'w') as f:\n",
    "    f.write('Python is a great language. ')\n",
    "    print('successfully written')    "
   ]
  },
  {
   "cell_type": "code",
   "execution_count": 39,
   "metadata": {},
   "outputs": [
    {
     "name": "stdout",
     "output_type": "stream",
     "text": [
      "Opening file ./context_manger.txt\n",
      "successfully written\n",
      "Closing file ./context_manger.txt\n"
     ]
    }
   ],
   "source": [
    "with FileManager('./context_manger.txt', 'a') as f:\n",
    "    f.write('Python is most popular language. ')\n",
    "    print('successfully written')\n",
    "    "
   ]
  },
  {
   "cell_type": "code",
   "execution_count": 40,
   "metadata": {},
   "outputs": [
    {
     "name": "stdout",
     "output_type": "stream",
     "text": [
      "Opening file ./context_manger.txt\n",
      "Python is a great language. Python is most popular language. \n",
      "Closing file ./context_manger.txt\n"
     ]
    }
   ],
   "source": [
    "with FileManager('./context_manger.txt', 'r') as f:\n",
    "    context = f.read()\n",
    "    print(context)"
   ]
  },
  {
   "cell_type": "markdown",
   "metadata": {},
   "source": [
    "##### Build Context Manager"
   ]
  },
  {
   "cell_type": "code",
   "execution_count": 31,
   "metadata": {},
   "outputs": [
    {
     "name": "stdout",
     "output_type": "stream",
     "text": [
      "successfully written\n"
     ]
    }
   ],
   "source": [
    "with open('./context_manger.txt', 'w') as f:\n",
    "    write = f.write('Hi this is a test context. ')\n",
    "    print('successfully written')"
   ]
  },
  {
   "cell_type": "code",
   "execution_count": 32,
   "metadata": {},
   "outputs": [
    {
     "name": "stdout",
     "output_type": "stream",
     "text": [
      "successfully written\n"
     ]
    }
   ],
   "source": [
    "with open ('./context_manger.txt', 'a') as f:\n",
    "    append = f.write('Add this text into the context.')\n",
    "    print('successfully written')"
   ]
  },
  {
   "cell_type": "code",
   "execution_count": 35,
   "metadata": {},
   "outputs": [
    {
     "name": "stdout",
     "output_type": "stream",
     "text": [
      "['Hi this is a test context', ' Add this text into the context', '']\n"
     ]
    }
   ],
   "source": [
    "with open('./context_manger.txt', 'r') as f:\n",
    "    context = f.read()\n",
    "    print((context).split('.'))"
   ]
  }
 ],
 "metadata": {
  "kernelspec": {
   "display_name": "Python 3",
   "language": "python",
   "name": "python3"
  },
  "language_info": {
   "codemirror_mode": {
    "name": "ipython",
    "version": 3
   },
   "file_extension": ".py",
   "mimetype": "text/x-python",
   "name": "python",
   "nbconvert_exporter": "python",
   "pygments_lexer": "ipython3",
   "version": "3.12.4"
  }
 },
 "nbformat": 4,
 "nbformat_minor": 2
}
