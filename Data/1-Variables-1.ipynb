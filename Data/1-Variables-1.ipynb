{
 "cells": [
  {
   "cell_type": "markdown",
   "id": "39811a24-13e3-4250-9ce1-05c9d921cfd4",
   "metadata": {},
   "source": [
    "Track down your monthly expenses in Python, given individual expense items"
   ]
  },
  {
   "cell_type": "markdown",
   "id": "6a8e9ca3",
   "metadata": {},
   "source": [
    "using assignment operator you can put a value inside a variable so at the left hand side of the assignment operator is a variable name \n",
    "and right hand side is the value.\n",
    "Variables are containers that hold some value and the value inside it can vary."
   ]
  },
  {
   "cell_type": "code",
   "execution_count": 1,
   "id": "d69d04d3-95c8-4a9e-8c24-fa26a50ebc6d",
   "metadata": {},
   "outputs": [
    {
     "name": "stdout",
     "output_type": "stream",
     "text": [
      "8000\n"
     ]
    }
   ],
   "source": [
    "rent=5000\n",
    "gas_charges=2000\n",
    "elec_charges=3000\n",
    "phone_charges=3000\n",
    "total_expenses=gas_charges+elec_charges+phone_charges\n",
    "print(total_expenses)"
   ]
  },
  {
   "cell_type": "code",
   "execution_count": 3,
   "id": "a841551f-57bf-4638-a83d-851d15eac73c",
   "metadata": {},
   "outputs": [
    {
     "name": "stdout",
     "output_type": "stream",
     "text": [
      "enter your house rent 1000\n",
      "enter gas charges 2000\n",
      "enter phone charges 3000\n"
     ]
    },
    {
     "name": "stdout",
     "output_type": "stream",
     "text": [
      "total expenses of my home are  6000.0\n"
     ]
    }
   ],
   "source": [
    "rent= int (input('enter your house rent'))\n",
    "gas_charges= int (input('enter gas charges'))\n",
    "phone_charges= float(input('enter phone charges'))\n",
    "total_expenses= rent + gas_charges + phone_charges\n",
    "print(\"total expenses of my home are \", total_expenses)"
   ]
  },
  {
   "cell_type": "code",
   "execution_count": 1,
   "id": "d89cd0c2-a9c3-46df-9bd6-fb7811e614d3",
   "metadata": {},
   "outputs": [
    {
     "data": {
      "text/plain": [
       "'d:\\\\CodeBackground\\\\machine-Lreaning-and-Notebook-\\\\Advance Python by NAVTTC\\\\Data'"
      ]
     },
     "execution_count": 1,
     "metadata": {},
     "output_type": "execute_result"
    }
   ],
   "source": [
    "pwd"
   ]
  },
  {
   "cell_type": "code",
   "execution_count": 1,
   "id": "9e0f1e35-c219-4bdf-85fe-8b216042548c",
   "metadata": {},
   "outputs": [],
   "source": [
    "rent=2000\n",
    "gas=1000.6\n",
    "groceries=215.5\n",
    "\n",
    "total= rent + gas + groceries"
   ]
  },
  {
   "cell_type": "code",
   "execution_count": 2,
   "id": "07c619d3-1ed5-483f-9af0-95cfb2929725",
   "metadata": {},
   "outputs": [
    {
     "name": "stdout",
     "output_type": "stream",
     "text": [
      "2000 1000.6 215.5\n",
      "3216.1\n"
     ]
    }
   ],
   "source": [
    "print(rent, gas, groceries)\n",
    "print(total)"
   ]
  },
  {
   "cell_type": "code",
   "execution_count": 3,
   "id": "0e18f043-460a-44d6-8d89-210917c42245",
   "metadata": {},
   "outputs": [
    {
     "name": "stdout",
     "output_type": "stream",
     "text": [
      "expense items are:  rent gas groceries\n"
     ]
    }
   ],
   "source": [
    "item1= 'rent'\n",
    "item2='gas'\n",
    "item3= 'groceries'\n",
    "print(\"expense items are: \", item1, item2, item3)"
   ]
  },
  {
   "cell_type": "code",
   "execution_count": 4,
   "id": "694f48f0-a18d-4cf7-af7b-17442ff05c70",
   "metadata": {},
   "outputs": [
    {
     "name": "stdout",
     "output_type": "stream",
     "text": [
      "2000 1000.6 215.5\n",
      "3216.1\n"
     ]
    }
   ],
   "source": [
    "print(rent, gas, groceries)\n",
    "print(total)"
   ]
  },
  {
   "cell_type": "markdown",
   "id": "36442a19",
   "metadata": {},
   "source": [
    "1. Create a variable called break and assign it a value 5. See what happens and find out the reason behind the behavior that you see"
   ]
  },
  {
   "cell_type": "code",
   "execution_count": 3,
   "id": "c6c49a10-1bc9-43bc-b297-d29618f29353",
   "metadata": {},
   "outputs": [
    {
     "ename": "SyntaxError",
     "evalue": "invalid syntax (1599402383.py, line 1)",
     "output_type": "error",
     "traceback": [
      "\u001b[1;36m  Cell \u001b[1;32mIn[3], line 1\u001b[1;36m\u001b[0m\n\u001b[1;33m    break = 5\u001b[0m\n\u001b[1;37m          ^\u001b[0m\n\u001b[1;31mSyntaxError\u001b[0m\u001b[1;31m:\u001b[0m invalid syntax\n"
     ]
    }
   ],
   "source": [
    "# this code take error because you can not assign a value to a build type . the is the build python keyword\n",
    "break = 5\n",
    "print(break)"
   ]
  },
  {
   "cell_type": "code",
   "execution_count": null,
   "id": "824b4cec-5ffc-4d5d-a8b1-4c08d890ee2c",
   "metadata": {},
   "outputs": [],
   "source": [
    "# the correct version is \n",
    "breakdown = 5\n",
    "\n",
    "print(breakdown)"
   ]
  },
  {
   "cell_type": "markdown",
   "id": "9c93b2b4",
   "metadata": {},
   "source": [
    "Create two variables. One to store your birth year and another one to store current year. Now calculate your age using these two variables"
   ]
  },
  {
   "cell_type": "code",
   "execution_count": 4,
   "id": "b6279f33-152f-4ad0-997d-78137a3bf013",
   "metadata": {},
   "outputs": [
    {
     "name": "stdout",
     "output_type": "stream",
     "text": [
      "My age is  19\n"
     ]
    }
   ],
   "source": [
    "birth = 2005\n",
    "current = 2024\n",
    "\n",
    "age = current - birth\n",
    "print('My age is ', age)"
   ]
  },
  {
   "cell_type": "markdown",
   "id": "4532f62f",
   "metadata": {},
   "source": [
    "Store your first, middle and last name in three different variables and then print your full name using these variables"
   ]
  },
  {
   "cell_type": "code",
   "execution_count": 6,
   "id": "17c4532d-e8a0-447e-a4ca-e7076fdf6852",
   "metadata": {},
   "outputs": [
    {
     "name": "stdout",
     "output_type": "stream",
     "text": [
      "Mohammad Ahmad Ahmad\n"
     ]
    }
   ],
   "source": [
    "first_name = 'Mohammad'\n",
    "middle_name = 'Ahmad'\n",
    "last_name = 'Ahmad'\n",
    "\n",
    "full_name = first_name +' ' + middle_name +' ' + last_name\n",
    "print(full_name)"
   ]
  },
  {
   "cell_type": "markdown",
   "id": "4bdd20ec",
   "metadata": {},
   "source": [
    "Answer which of these are invalid variable names: _nation 1record record1 record_one record-one record^one continue"
   ]
  },
  {
   "cell_type": "markdown",
   "id": "c5c54247",
   "metadata": {},
   "source": [
    "\n",
    "| **Name**          | **Validity** |\n",
    "|----------------   |--------------|\n",
    "| `_notion`         | Valid        |\n",
    "| `1record`         | Invalid      |\n",
    "| `record1`         | Valid        |\n",
    "| `record_one`      | Valid        |\n",
    "| `record-one`      | Invalid      |\n",
    "| `record^one`      | Invalid      |\n",
    "| `continue`        | Invalid      |"
   ]
  },
  {
   "cell_type": "code",
   "execution_count": 7,
   "id": "90e9619a",
   "metadata": {},
   "outputs": [
    {
     "name": "stdout",
     "output_type": "stream",
     "text": [
      "| Name         | Validity  |\n",
      "|--------------|-----------|\n",
      "| _notion      | Valid     |\n",
      "| 1record      | Invalid   |\n",
      "| record1      | Valid     |\n",
      "| record_one   | Valid     |\n",
      "| record-one   | Invalid   |\n",
      "| record^one   | Invalid   |\n",
      "| continue     | Invalid   |\n"
     ]
    }
   ],
   "source": [
    "import keyword\n",
    "\n",
    "def check_variable_name(name):\n",
    "    if name.isidentifier() and not keyword.iskeyword(name):\n",
    "        return \"Valid\"\n",
    "    else:\n",
    "        return \"Invalid\"\n",
    "\n",
    "# Test cases\n",
    "variable_names = [\n",
    "    \"_notion\",\n",
    "    \"1record\",\n",
    "    \"record1\",\n",
    "    \"record_one\",\n",
    "    \"record-one\",\n",
    "    \"record^one\",\n",
    "    \"continue\"\n",
    "]\n",
    "\n",
    "# Display the results in a table format\n",
    "print(\"| Name         | Validity  |\")\n",
    "print(\"|--------------|-----------|\")\n",
    "for name in variable_names:\n",
    "    print(f\"| {name:<12} | {check_variable_name(name):<9} |\")\n"
   ]
  }
 ],
 "metadata": {
  "kernelspec": {
   "display_name": "Python 3 (ipykernel)",
   "language": "python",
   "name": "python3"
  },
  "language_info": {
   "codemirror_mode": {
    "name": "ipython",
    "version": 3
   },
   "file_extension": ".py",
   "mimetype": "text/x-python",
   "name": "python",
   "nbconvert_exporter": "python",
   "pygments_lexer": "ipython3",
   "version": "3.12.4"
  }
 },
 "nbformat": 4,
 "nbformat_minor": 5
}
