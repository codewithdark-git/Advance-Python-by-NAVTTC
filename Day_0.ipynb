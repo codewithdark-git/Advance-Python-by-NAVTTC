{
 "cells": [
  {
   "cell_type": "markdown",
   "metadata": {},
   "source": [
    "### Walrus Operator `:=`\n",
    "\n",
    "The `:=` symbol in Python is known as the **walrus operator** or **assignment expression**. It allows you to assign a value to a variable as part of an expression, making your code more concise and readable.\n",
    "\n",
    "#### Key Uses of the Walrus Operator:\n",
    "\n",
    "1. **Inline Assignment in Loops:**\n",
    "   You can assign a value within a loop condition without needing a separate line for the assignment.\n"
   ]
  },
  {
   "cell_type": "code",
   "execution_count": 1,
   "metadata": {},
   "outputs": [
    {
     "name": "stdout",
     "output_type": "stream",
     "text": [
      "You entered: 2323\n",
      "You entered: rtrt\n"
     ]
    }
   ],
   "source": [
    "data = input(\"Enter something: \")\n",
    "while data != \"exit\":\n",
    "    print(f\"You entered: {data}\")"
   ]
  },
  {
   "cell_type": "code",
   "execution_count": 1,
   "metadata": {},
   "outputs": [
    {
     "name": "stdout",
     "output_type": "stream",
     "text": [
      "You entered: hhhjhj\n",
      "You entered: hjhjhj\n",
      "You entered: hjhjhj\n",
      "You entered: hjhjj\n"
     ]
    }
   ],
   "source": [
    "# With walrus operator\n",
    "data = input(\"Enter something: \")\n",
    "while (data := input(\"Enter something: \")) != \"exit\":\n",
    "       print(f\"You entered: {data}\")"
   ]
  },
  {
   "cell_type": "markdown",
   "metadata": {},
   "source": [
    "\n",
    "   In the second example, the assignment happens directly within the `while` loop condition"
   ]
  },
  {
   "cell_type": "markdown",
   "metadata": {},
   "source": [
    "1. **Simplifying List Comprehensions:**\n",
    "   It can be used to store intermediate results in list comprehensions."
   ]
  },
  {
   "cell_type": "code",
   "execution_count": 2,
   "metadata": {},
   "outputs": [
    {
     "name": "stdout",
     "output_type": "stream",
     "text": [
      "[6, 6]\n"
     ]
    }
   ],
   "source": [
    "# Example: Filtering and capturing lengths of strings in a list\n",
    "words = [\"apple\", \"banana\", \"cherry\", \"date\"]\n",
    "lengths = [length for word in words if (length := len(word)) > 5]\n",
    "print(lengths)  # Output: [6, 6]"
   ]
  },
  {
   "cell_type": "markdown",
   "metadata": {},
   "source": [
    "Here, `length := len(word)` assigns the length of each word to the variable `length` and checks if it is greater than 5 before including it in the list."
   ]
  },
  {
   "cell_type": "markdown",
   "metadata": {},
   "source": [
    "\n",
    "1. **Reducing Repeated Computations:**\n",
    "   It helps avoid redundant calculations by reusing an expression's result.\n"
   ]
  },
  {
   "cell_type": "code",
   "execution_count": 3,
   "metadata": {},
   "outputs": [],
   "source": [
    "def compute_value(value):\n",
    "   return value * 2"
   ]
  },
  {
   "cell_type": "code",
   "execution_count": 8,
   "metadata": {},
   "outputs": [
    {
     "name": "stdout",
     "output_type": "stream",
     "text": [
      "24\n"
     ]
    }
   ],
   "source": [
    "value = compute_value(12)\n",
    "if value > 10:\n",
    "   print(value)"
   ]
  },
  {
   "cell_type": "code",
   "execution_count": 7,
   "metadata": {},
   "outputs": [
    {
     "name": "stdout",
     "output_type": "stream",
     "text": [
      "24\n"
     ]
    }
   ],
   "source": [
    "# With walrus operator\n",
    "if (value := compute_value(12)) > 10:\n",
    "   print(value)"
   ]
  },
  {
   "cell_type": "markdown",
   "metadata": {},
   "source": [
    "#### When to Use the Walrus Operator:\n",
    "- It’s useful when you want to assign a value to a variable and use it in the same expression.\n",
    "- It can make code more concise, but overuse can sometimes reduce readability, so use it judiciously.\n",
    "\n",
    "The `:=` operator is available from Python 3.8 onwards."
   ]
  },
  {
   "cell_type": "code",
   "execution_count": null,
   "metadata": {},
   "outputs": [],
   "source": []
  }
 ],
 "metadata": {
  "kernelspec": {
   "display_name": "Python 3",
   "language": "python",
   "name": "python3"
  },
  "language_info": {
   "codemirror_mode": {
    "name": "ipython",
    "version": 3
   },
   "file_extension": ".py",
   "mimetype": "text/x-python",
   "name": "python",
   "nbconvert_exporter": "python",
   "pygments_lexer": "ipython3",
   "version": "3.12.4"
  }
 },
 "nbformat": 4,
 "nbformat_minor": 2
}
