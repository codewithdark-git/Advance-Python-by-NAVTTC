{
 "cells": [
  {
   "cell_type": "markdown",
   "metadata": {},
   "source": [
    "A **file** in computing is a container in which information or data is stored. It can hold various types of data, such as text, images, videos, or executable programs. Files are a fundamental part of operating systems and software applications, used for saving and organizing information.\n",
    "\n",
    "### Key Concepts About Files:\n",
    "\n",
    "1. **File Types**:\n",
    "    - **Text Files**: Contain plain text, like `.txt`, `.csv`, `.json`.\n",
    "    - **Binary Files**: Contain non-text data like images, audio, video, and compiled programs, like `.jpg`, `.mp4`, `.exe`.\n",
    "    - **Document Files**: Specialized formats for documents, like `.docx`, `.pdf`.\n",
    "    - **Executable Files**: Files that contain programs or scripts, like `.exe`, `.bat`, `.sh`.\n",
    "\n",
    "2. **File Extensions**:\n",
    "    - File extensions (like `.txt`, `.png`, `.mp3`) indicate the file type and are typically used by the operating system to determine how to open or handle the file.\n",
    "\n",
    "3. **File Structure**:\n",
    "    - Files are typically organized in a hierarchical directory (or folder) structure.\n",
    "    - The directory path (like `C:/Documents/report.txt`) specifies the location of a file in a system.\n",
    "\n",
    "4. **File Operations**:\n",
    "    - Common operations include reading, writing, copying, deleting, and renaming files.\n",
    "    - In programming, files are often opened for operations like reading (`r`), writing (`w`), and appending (`a`).\n",
    "\n",
    "### Why Are Files Important?\n",
    "\n",
    "- **Data Storage**: Files allow data to be stored persistently on disk, making it possible to retrieve the data later.\n",
    "- **Data Sharing**: Files can be shared between different systems and users.\n",
    "- **Backup and Archiving**: Files can be used to back up data and archive important information for long-term storage.\n",
    "\n",
    "### Example in Python:\n",
    "\n",
    "Here’s a simple example of how to work with a text file in Python:\n",
    "\n",
    "```python\n",
    "# Writing to a file\n",
    "with open(\"example.txt\", \"w\") as file:\n",
    "    file.write(\"Hello, this is an example file.\")\n",
    "\n",
    "# Reading from a file\n",
    "with open(\"example.txt\", \"r\") as file:\n",
    "    content = file.read()\n",
    "    print(content)\n",
    "```\n",
    "\n",
    "This code creates a file named `example.txt`, writes text to it, and then reads the content back.\n",
    "\n",
    "### Types of Files:\n",
    "1. **Linear Files**: Organized sequentially, accessed in a specific order.\n",
    "2. **Hierarchical Files**: Organized in a tree structure with folders and sub_folders.\n",
    "\n",
    "Files are an essential part of any operating system and software development process, enabling the storage and management of data across applications and systems."
   ]
  },
  {
   "cell_type": "markdown",
   "metadata": {},
   "source": [
    "Here’s a general syntax for reading, opening, closing a file, and understanding different modes of opening a file in Python.\n",
    "\n",
    "### General Syntax:\n",
    "\n",
    "1. **Opening a File:**\n",
    "   ```python\n",
    "   file = open('filename', mode)\n",
    "   ```\n",
    "\n",
    "   - `'filename'` is the name of the file you want to open.\n",
    "   - `'mode'` specifies the mode in which the file should be opened.\n",
    "\n",
    "2. **Reading from a File:**\n",
    "   ```python\n",
    "   content = file.read()  # Reads the entire content of the file\n",
    "   ```\n",
    "\n",
    "3. **Closing a File:**\n",
    "   ```python\n",
    "   file.close()  # Always close the file after you are done\n",
    "   ```\n",
    "\n",
    "### Modes of Opening a File:\n",
    "- `'r'`: **Read Mode** (default) – Opens the file for reading. The file pointer is placed at the beginning of the file. If the file does not exist, it raises a `FileNotFoundError`.\n",
    "- `'w'`: **Write Mode** – Opens the file for writing. If the file exists, it truncates the file. If the file does not exist, it creates a new file.\n",
    "- `'a'`: **Append Mode** – Opens the file for appending. The file pointer is placed at the end of the file. If the file does not exist, it creates a new file.\n",
    "- `'r+'`: **Read and Write Mode** – Opens the file for both reading and writing.\n",
    "- `'w+'`: **Write and Read Mode** – Opens the file for both writing and reading. Overwrites the existing file.\n",
    "- `'a+'`: **Append and Read Mode** – Opens the file for both appending and reading.\n",
    "\n",
    "### Example Code:\n",
    "\n",
    "```python\n",
    "# Open the file in read mode\n",
    "file = open('example.txt', 'r')\n",
    "\n",
    "# Read the content of the file\n",
    "content = file.read()\n",
    "print(content)\n",
    "\n",
    "# Close the file\n",
    "file.close()\n",
    "```\n",
    "\n",
    "### Using `with` Statement (Best Practice):\n",
    "\n",
    "The `with` statement is recommended for opening files because it automatically closes the file after the block is executed:\n",
    "\n",
    "```python\n",
    "# Open the file using 'with' (no need to explicitly close the file)\n",
    "with open('example.txt', 'r') as file:\n",
    "    content = file.read()\n",
    "    print(content)\n",
    "# The file is automatically closed here\n",
    "```\n",
    "\n",
    "This is a safer approach as it ensures the file is properly closed even if an exception occurs."
   ]
  },
  {
   "cell_type": "markdown",
   "metadata": {},
   "source": [
    "##### Using the `with` Statement (Best Practice)"
   ]
  },
  {
   "cell_type": "code",
   "execution_count": 1,
   "metadata": {},
   "outputs": [],
   "source": [
    "with open('Data/python.txt', 'r') as file:\n",
    "    content = file.read()\n",
    "# The file is automatically closed after exiting the block."
   ]
  },
  {
   "cell_type": "markdown",
   "metadata": {},
   "source": [
    "##### Reading from a File <br> Reading the Entire File:"
   ]
  },
  {
   "cell_type": "code",
   "execution_count": 5,
   "metadata": {},
   "outputs": [
    {
     "name": "stdout",
     "output_type": "stream",
     "text": [
      "this is a txt file for testing\n",
      "and this the second line of file\n"
     ]
    }
   ],
   "source": [
    "with open('Data/python.txt', 'r') as file:\n",
    "    content = file.read()\n",
    "    print(content)"
   ]
  },
  {
   "cell_type": "markdown",
   "metadata": {},
   "source": [
    "##### Reading Line by Line"
   ]
  },
  {
   "cell_type": "code",
   "execution_count": 6,
   "metadata": {},
   "outputs": [
    {
     "name": "stdout",
     "output_type": "stream",
     "text": [
      "this is a txt file for testing\n",
      "and this the second line of file"
     ]
    }
   ],
   "source": [
    "with open('Data/python.txt', 'r') as file:\n",
    "    for line in file:\n",
    "        print(line, end='')  # Avoids adding extra newlines\n"
   ]
  },
  {
   "cell_type": "markdown",
   "metadata": {},
   "source": [
    "##### Using `readline()` to Read One Line at a Time"
   ]
  },
  {
   "cell_type": "code",
   "execution_count": 7,
   "metadata": {},
   "outputs": [
    {
     "name": "stdout",
     "output_type": "stream",
     "text": [
      "this is a txt file for testing\n",
      "and this the second line of file"
     ]
    }
   ],
   "source": [
    "with open('Data/python.txt', 'r') as file:\n",
    "    line = file.readline()\n",
    "    while line:\n",
    "        print(line, end='')\n",
    "        line = file.readline()"
   ]
  },
  {
   "cell_type": "markdown",
   "metadata": {},
   "source": [
    "##### Reading All Lines into a List"
   ]
  },
  {
   "cell_type": "code",
   "execution_count": 9,
   "metadata": {},
   "outputs": [
    {
     "name": "stdout",
     "output_type": "stream",
     "text": [
      "['this is a txt file for testing\\n', 'and this the second line of file']\n"
     ]
    }
   ],
   "source": [
    "with open('Data/python.txt', 'r') as file:\n",
    "    lines = file.readlines()  # Returns a list of lines\n",
    "    print(lines)\n"
   ]
  },
  {
   "cell_type": "markdown",
   "metadata": {},
   "source": [
    "##### Writing to a File <br> Writing Data"
   ]
  },
  {
   "cell_type": "code",
   "execution_count": 12,
   "metadata": {},
   "outputs": [],
   "source": [
    "with open('Data/python.txt', 'w') as file:\n",
    "    file.write(\"This is a new line.\\n\")\n"
   ]
  },
  {
   "cell_type": "markdown",
   "metadata": {},
   "source": [
    "##### Appending Data"
   ]
  },
  {
   "cell_type": "code",
   "execution_count": 13,
   "metadata": {},
   "outputs": [],
   "source": [
    "with open('Data/python.txt', 'a') as file:\n",
    "    file.write(\"Appending this line.\\n\")\n"
   ]
  },
  {
   "cell_type": "markdown",
   "metadata": {},
   "source": [
    "##### Working with Binary Files <br> Reading and Writing Binary Files"
   ]
  },
  {
   "cell_type": "code",
   "execution_count": 17,
   "metadata": {},
   "outputs": [
    {
     "name": "stdout",
     "output_type": "stream",
     "text": [
      "The Image was copied Data/copy_image.png\n"
     ]
    }
   ],
   "source": [
    "with open('Data/image.jpeg', 'rb') as file:\n",
    "    binary_data = file.read()\n",
    "\n",
    "with open('Data/copy_image.png', 'wb') as file:\n",
    "    file.write(binary_data)\n",
    "    print(f'The Image was copied Data/copy_image.png')\n"
   ]
  },
  {
   "cell_type": "markdown",
   "metadata": {},
   "source": [
    "##### File Handling With Error Exceptions"
   ]
  },
  {
   "cell_type": "code",
   "execution_count": null,
   "metadata": {},
   "outputs": [],
   "source": [
    "try:\n",
    "    fi = open(\"python.txt\", \"r\")\n",
    "    read_content = fi.read()\n",
    "    print(read_content)\n",
    "    \n",
    "except FileNotFoundError as e: #This exception occurs when the file or directory you are trying to open does not exist.\n",
    "    print(f\"Error: The file was not found. Details: {e}\")\n",
    "    \n",
    "finally:\n",
    "    # close the file\n",
    "    fi.close() #Here, the finally block is always executed, so we have kept the close() function inside it. This ensures that the file will always be closed."
   ]
  },
  {
   "cell_type": "markdown",
   "metadata": {},
   "source": [
    "##### Working with CSV Files: <br><br> CSV (Comma-Separated Values) files are commonly used for data storage and exchange. Python provides a built-in csv module for reading and writing CSV files. <br><br> Reading a CSV File:"
   ]
  },
  {
   "cell_type": "code",
   "execution_count": 19,
   "metadata": {},
   "outputs": [
    {
     "name": "stdout",
     "output_type": "stream",
     "text": [
      "['Name', 'Age', 'City']\n",
      "['Alice', '30', 'New York']\n",
      "['Bob', '25', 'San Francisco']\n"
     ]
    }
   ],
   "source": [
    "import csv\n",
    "\n",
    "with open('Data/data.csv', 'r') as file:\n",
    "    reader = csv.reader(file)\n",
    "    for row in reader:\n",
    "        print(row)\n"
   ]
  },
  {
   "cell_type": "markdown",
   "metadata": {},
   "source": [
    "##### Writing to a CSV File:"
   ]
  },
  {
   "cell_type": "code",
   "execution_count": 18,
   "metadata": {},
   "outputs": [],
   "source": [
    "import csv\n",
    "\n",
    "with open('Data/data.csv', 'w', newline='') as file:\n",
    "    writer = csv.writer(file)\n",
    "    writer.writerow([\"Name\", \"Age\", \"City\"])\n",
    "    writer.writerow([\"Alice\", 30, \"New York\"])\n",
    "    writer.writerow([\"Bob\", 25, \"San Francisco\"])\n"
   ]
  },
  {
   "cell_type": "markdown",
   "metadata": {},
   "source": [
    "##### Reading a CSV File as a Dictionary:"
   ]
  },
  {
   "cell_type": "code",
   "execution_count": 20,
   "metadata": {},
   "outputs": [
    {
     "name": "stdout",
     "output_type": "stream",
     "text": [
      "Alice 30 New York\n",
      "Bob 25 San Francisco\n"
     ]
    }
   ],
   "source": [
    "import csv\n",
    "\n",
    "with open('Data/data.csv', 'r') as file:\n",
    "    reader = csv.DictReader(file)\n",
    "    for row in reader:\n",
    "        print(row[\"Name\"], row[\"Age\"], row[\"City\"])\n"
   ]
  },
  {
   "cell_type": "markdown",
   "metadata": {},
   "source": [
    "##### Working with JSON Files : <br><br> JSON (JavaScript Object Notation) is a popular format for data exchange. Python provides a built-in json module for handling JSON files.<br><br>Reading from a JSON File:"
   ]
  },
  {
   "cell_type": "code",
   "execution_count": 22,
   "metadata": {},
   "outputs": [
    {
     "name": "stdout",
     "output_type": "stream",
     "text": [
      "{'name': 'Alice', 'age': 30, 'city': 'New York'}\n"
     ]
    }
   ],
   "source": [
    "import json\n",
    "\n",
    "with open('Data/data.json', 'r') as file:\n",
    "    data = json.load(file)\n",
    "    print(data)\n"
   ]
  },
  {
   "cell_type": "markdown",
   "metadata": {},
   "source": [
    "##### Writing to a JSON File:"
   ]
  },
  {
   "cell_type": "code",
   "execution_count": 21,
   "metadata": {},
   "outputs": [],
   "source": [
    "import json\n",
    "\n",
    "data = {\n",
    "    \"name\": \"Alice\",\n",
    "    \"age\": 30,\n",
    "    \"city\": \"New York\"\n",
    "}\n",
    "\n",
    "with open('Data/data.json', 'w') as file:\n",
    "    json.dump(data, file, indent=4)\n"
   ]
  },
  {
   "cell_type": "markdown",
   "metadata": {},
   "source": [
    "##### File Handling with Pickle: <br><br> The pickle module allows you to serialize (convert to a byte stream) and deserialize (convert back to Python objects) Python objects.<br><br> Pickling (Serializing) Data:"
   ]
  },
  {
   "cell_type": "code",
   "execution_count": 23,
   "metadata": {},
   "outputs": [],
   "source": [
    "import pickle\n",
    "\n",
    "data = {\"name\": \"Alice\", \"age\": 30, \"city\": \"New York\"}\n",
    "\n",
    "with open('data.pkl', 'wb') as file:\n",
    "    pickle.dump(data, file)\n"
   ]
  },
  {
   "cell_type": "markdown",
   "metadata": {},
   "source": [
    "##### Unpickling (Deserializing) Data:"
   ]
  },
  {
   "cell_type": "code",
   "execution_count": 24,
   "metadata": {},
   "outputs": [
    {
     "name": "stdout",
     "output_type": "stream",
     "text": [
      "{'name': 'Alice', 'age': 30, 'city': 'New York'}\n"
     ]
    }
   ],
   "source": [
    "import pickle\n",
    "\n",
    "with open('data.pkl', 'rb') as file:\n",
    "    data = pickle.load(file)\n",
    "    print(data)\n"
   ]
  },
  {
   "cell_type": "markdown",
   "metadata": {},
   "source": [
    "##### File Encoding: <br><br>When reading or writing text files, it’s important to consider the file encoding, especially for non-English characters.<br><br>Specifying Encoding:"
   ]
  },
  {
   "cell_type": "code",
   "execution_count": 26,
   "metadata": {},
   "outputs": [
    {
     "name": "stdout",
     "output_type": "stream",
     "text": [
      "This is a new line.\n",
      "Appending this line.\n",
      "\n"
     ]
    }
   ],
   "source": [
    "with open('Data/python.txt', 'r', encoding='utf-8') as file:\n",
    "    content = file.read()\n",
    "    print(content)"
   ]
  },
  {
   "cell_type": "markdown",
   "metadata": {},
   "source": [
    "##### Common encodings include:<br><br>`utf-8`: The most widely used encoding for text files.<br>`ascii`: A subset of UTF-8 that includes only basic English characters.<br>`latin-1`: Used for Western European languages."
   ]
  },
  {
   "cell_type": "markdown",
   "metadata": {},
   "source": [
    "##### File I/O Performance Optimization:<br><br>**Buffered I/O:** Reading and writing large files in chunks can significantly improve performance."
   ]
  },
  {
   "cell_type": "code",
   "execution_count": 37,
   "metadata": {},
   "outputs": [
    {
     "name": "stdout",
     "output_type": "stream",
     "text": [
      "Chunk size: 1024, Memory size: 1057,\n",
      "Chunk size: 1024, Memory size: 1057,\n",
      "Chunk size: 180, Memory size: 213,\n",
      "size of File 8360\n"
     ]
    }
   ],
   "source": [
    "import sys\n",
    "\n",
    "with open('Data/large_file.txt', 'rb') as file:\n",
    "    while chunk := file.read(1024):  # Read 1024 bytes at a time\n",
    "        size = sys.getsizeof(chunk)\n",
    "        size_of_file = sys.getsizeof(file)\n",
    "        print(f\"Chunk size: {len(chunk)}, Memory size: {size},\")\n",
    "    print(f'size of File {size_of_file}')\n"
   ]
  },
  {
   "cell_type": "markdown",
   "metadata": {},
   "source": [
    "##### Using Generators for Large Files: Generators allow you to iterate over large files<br> without loading the entire file into memory."
   ]
  },
  {
   "cell_type": "code",
   "execution_count": 45,
   "metadata": {},
   "outputs": [],
   "source": []
  },
  {
   "cell_type": "code",
   "execution_count": 48,
   "metadata": {},
   "outputs": [
    {
     "name": "stdout",
     "output_type": "stream",
     "text": [
      "When analyzing time complexity for big O notation, here are some key tips to consider:\n",
      "\n",
      "1. **Identify the Basic Operations**: Determine the basic operation that is being counted in the algorithm. This could be comparisons, additions, or any other fundamental operation that the algorithm performs.\n",
      "\n",
      "2. **Focus on the Worst-Case Scenario**: Big O notation typically describes the worst-case scenario. Analyze the algorithm's performance in the most time-consuming situation.\n",
      "\n",
      "3. **Ignore Constants and Lower Order Terms**: Big O notation abstracts away constants and lower-order terms. For instance, if an algorithm has a time complexity of \\(3n^2 + 5n + 7\\), it is simplified to \\(O(n^2)\\).\n",
      "\n",
      "4. **Consider Nested Loops**: When dealing with nested loops, multiply the complexities of the loops. For example, a loop running \\(n\\) times inside another \\(n\\)-times loop results in \\(O(n^2)\\).\n",
      "\n",
      "5. **Analyze Recursive Algorithms**: For recursive algorithms, use the Master Theorem or recurrence relations to determine time complexity. The recurrence relation often involves solving equations like \\(T(n) = aT(n/b) + f(n)\\).\n",
      "\n",
      "6. **Look at Input Size Variations**: Consider how the algorithm's performance changes with different input sizes. Time complexity is generally a function of input size \\(n\\).\n",
      "\n",
      "7. **Use Simplified Cases**: For complex expressions, simplify them to understand the dominating term. For example, in \\(O(n \\log n + n)\\), the dominating term is \\(O(n \\log n)\\).\n",
      "\n",
      "8. **Consider Space Complexity**: Sometimes time complexity is analyzed alongside space complexity. An algorithm might have good time complexity but poor space complexity, or vice versa.\n",
      "\n",
      "9. **Practice Common Patterns**: Familiarize yourself with common time complexities and their patterns, such as \\(O(1)\\), \\(O(n)\\), \\(O(n \\log n)\\), \\(O(n^2)\\), etc. Recognizing these patterns can make it easier to analyze new algorithms.\n",
      "\n",
      "10. **Verify with Examples**: Test the algorithm with various input sizes to verify your time complexity analysis. This empirical approach can help confirm your theoretical analysis.\n",
      "\n",
      "By applying these tips, you can more effectively analyze and understand the time complexity of different algorithms.\n"
     ]
    }
   ],
   "source": [
    "def process(line):\n",
    "    return line.strip()\n",
    "\n",
    "def read_large_file(file_path):\n",
    "    with open(file_path, 'r', encoding='utf-8') as file:  # Text mode with UTF-8 encoding\n",
    "        for line in file:\n",
    "            yield line  # Yield each line for processing\n",
    "\n",
    "for line in read_large_file('Data/large_file.txt'):\n",
    "    processed_line = process(line)\n",
    "    print(processed_line) \n"
   ]
  },
  {
   "cell_type": "code",
   "execution_count": 52,
   "metadata": {},
   "outputs": [
    {
     "name": "stdout",
     "output_type": "stream",
     "text": [
      "24\n"
     ]
    }
   ],
   "source": [
    "if (value := compute_value(12)) > 10:\n",
    "    print(value)"
   ]
  },
  {
   "cell_type": "code",
   "execution_count": null,
   "metadata": {},
   "outputs": [],
   "source": []
  }
 ],
 "metadata": {
  "kernelspec": {
   "display_name": "Python 3",
   "language": "python",
   "name": "python3"
  },
  "language_info": {
   "codemirror_mode": {
    "name": "ipython",
    "version": 3
   },
   "file_extension": ".py",
   "mimetype": "text/x-python",
   "name": "python",
   "nbconvert_exporter": "python",
   "pygments_lexer": "ipython3",
   "version": "3.12.4"
  }
 },
 "nbformat": 4,
 "nbformat_minor": 2
}
