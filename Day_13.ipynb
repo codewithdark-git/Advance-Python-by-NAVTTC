{
 "cells": [
  {
   "cell_type": "code",
   "execution_count": null,
   "metadata": {},
   "outputs": [],
   "source": [
    "class name:\n",
    "    def n():\n",
    "        pass\n",
    "    def m():\n",
    "        pass"
   ]
  },
  {
   "cell_type": "code",
   "execution_count": 12,
   "metadata": {},
   "outputs": [],
   "source": [
    "class Car:  # class name should be in Pascal case\n",
    "    color='Blue'   # data...data members should be in snake case\n",
    "    model='Sports' # data \n",
    "def calculate_avg_speed(km, miles): # method names shoud be in snake case\n",
    "        pass"
   ]
  },
  {
   "cell_type": "code",
   "execution_count": 13,
   "metadata": {},
   "outputs": [
    {
     "name": "stdout",
     "output_type": "stream",
     "text": [
      "Blue\n",
      "Sports\n"
     ]
    }
   ],
   "source": [
    "car = Car()\n",
    "print(car.color)\n",
    "print(car.model)"
   ]
  },
  {
   "cell_type": "code",
   "execution_count": 1,
   "metadata": {},
   "outputs": [],
   "source": [
    "class Car:\n",
    "    def __init__(self) -> None:\n",
    "        self.color = 'Blue'\n",
    "        self.model = 'BMW'"
   ]
  },
  {
   "cell_type": "code",
   "execution_count": 6,
   "metadata": {},
   "outputs": [
    {
     "name": "stdout",
     "output_type": "stream",
     "text": [
      "Blue\n",
      "BMW\n"
     ]
    }
   ],
   "source": [
    "car = Car()\n",
    "print(car.color)\n",
    "print(car.model)"
   ]
  },
  {
   "cell_type": "code",
   "execution_count": 8,
   "metadata": {},
   "outputs": [],
   "source": [
    "class Square:\n",
    "    def __init__(self, num1, num2) -> None:\n",
    "        self.num1 = num1\n",
    "        self.num2 = num2\n",
    "\n",
    "    def area(self):\n",
    "        return self.num1 * self.num2\n",
    "    \n",
    "    "
   ]
  },
  {
   "cell_type": "code",
   "execution_count": 11,
   "metadata": {},
   "outputs": [
    {
     "name": "stdout",
     "output_type": "stream",
     "text": [
      "8\n"
     ]
    }
   ],
   "source": [
    "sq = Square(2, 4)\n",
    "print(sq.area())"
   ]
  },
  {
   "cell_type": "code",
   "execution_count": null,
   "metadata": {},
   "outputs": [],
   "source": [
    "class Atm:\n",
    "    def __init__(self): # constructor\n",
    "         pass\n",
    "    def menu(self):\n",
    "        pass\n",
    "        \n",
    "obj= Atm()"
   ]
  },
  {
   "cell_type": "code",
   "execution_count": 15,
   "metadata": {},
   "outputs": [],
   "source": [
    "import sys\n",
    "\n",
    "class Account:\n",
    "    def __init__(self, pin, balance=0.0):\n",
    "        self.pin = pin\n",
    "        self.balance = balance\n",
    "        self.statement = []\n",
    "    \n",
    "    def deposit(self, amount):\n",
    "        self.balance += amount\n",
    "        self.statement.append(f\"Deposited {amount}\")\n",
    "\n",
    "    def withdraw(self, amount):\n",
    "        if amount > self.balance:\n",
    "            print(\"Insufficient balance.\")\n",
    "            return False\n",
    "        self.balance -= amount\n",
    "        self.statement.append(f\"Withdrew {amount}\")\n",
    "        return True\n",
    "    \n",
    "    def view_statement(self):\n",
    "        print(\"Account Statement:\")\n",
    "        for entry in self.statement:\n",
    "            print(entry)\n",
    "        print(f\"Current Balance: {self.balance}\")\n",
    "\n",
    "    def change_pin(self, current_pin, new_pin):\n",
    "        if current_pin == self.pin:\n",
    "            self.pin = new_pin\n",
    "            print(\"PIN successfully changed.\")\n",
    "        else:\n",
    "            print(\"Incorrect current PIN.\")"
   ]
  },
  {
   "cell_type": "code",
   "execution_count": 16,
   "metadata": {},
   "outputs": [],
   "source": [
    "class ATM:\n",
    "    def __init__(self):\n",
    "        self.accounts = {}\n",
    "        self.current_account = None\n",
    "        self.locked = False\n",
    "\n",
    "    def add_account(self, pin, balance=0.0):\n",
    "        self.accounts[pin] = Account(pin, balance)\n",
    "\n",
    "    def login(self):\n",
    "        if self.locked:\n",
    "            print(\"ATM is locked due to multiple incorrect attempts.\")\n",
    "            return False\n",
    "        \n",
    "        pin = input(\"Enter your PIN: \")\n",
    "        if pin in self.accounts:\n",
    "            self.current_account = self.accounts[pin]\n",
    "            return True\n",
    "        else:\n",
    "            print(\"Incorrect PIN.\")\n",
    "            return False\n",
    "\n",
    "    def change_pin(self):\n",
    "        if not self.current_account:\n",
    "            print(\"No account is logged in.\")\n",
    "            return\n",
    "\n",
    "        current_pin = input(\"Enter current PIN: \")\n",
    "        new_pin = input(\"Enter new PIN: \")\n",
    "        self.current_account.change_pin(current_pin, new_pin)\n",
    "\n",
    "    def deposit(self):\n",
    "        if not self.current_account:\n",
    "            print(\"No account is logged in.\")\n",
    "            return\n",
    "        \n",
    "        try:\n",
    "            amount = float(input(\"Enter deposit amount: \"))\n",
    "            self.current_account.deposit(amount)\n",
    "        except ValueError:\n",
    "            print(\"Invalid input. Please enter a numeric value.\")\n",
    "\n",
    "    def withdraw(self):\n",
    "        if not self.current_account:\n",
    "            print(\"No account is logged in.\")\n",
    "            return\n",
    "        \n",
    "        try:\n",
    "            amount = float(input(\"Enter withdrawal amount: \"))\n",
    "            if self.current_account.withdraw(amount):\n",
    "                if self.current_account.balance < 50:  # Minimum balance warning threshold\n",
    "                    print(\"Warning: Balance is below minimum threshold.\")\n",
    "        except ValueError:\n",
    "            print(\"Invalid input. Please enter a numeric value.\")\n",
    "\n",
    "    def view_statement(self):\n",
    "        if not self.current_account:\n",
    "            print(\"No account is logged in.\")\n",
    "            return\n",
    "        \n",
    "        self.current_account.view_statement()\n",
    "\n",
    "    def logout(self):\n",
    "        self.current_account = None\n",
    "        print(\"Logged out successfully.\")\n",
    "\n",
    "    def handle_menu(self):\n",
    "        while True:\n",
    "            if self.current_account:\n",
    "                print(\"\\n1. Check Balance\")\n",
    "                print(\"2. Deposit\")\n",
    "                print(\"3. Withdraw\")\n",
    "                print(\"4. Change PIN\")\n",
    "                print(\"5. View Statement\")\n",
    "                print(\"6. Logout\")\n",
    "            else:\n",
    "                print(\"\\n1. Login\")\n",
    "                print(\"2. Exit\")\n",
    "\n",
    "            choice = input(\"Choose an option: \")\n",
    "            if choice == \"1\" and not self.current_account:\n",
    "                if self.login():\n",
    "                    continue\n",
    "            elif choice == \"1\" and self.current_account:\n",
    "                self.view_statement()\n",
    "            elif choice == \"2\" and not self.current_account:\n",
    "                sys.exit()\n",
    "            elif choice == \"2\" and self.current_account:\n",
    "                self.deposit()\n",
    "            elif choice == \"3\" and self.current_account:\n",
    "                self.withdraw()\n",
    "            elif choice == \"4\" and self.current_account:\n",
    "                self.change_pin()\n",
    "            elif choice == \"5\" and self.current_account:\n",
    "                self.view_statement()\n",
    "            elif choice == \"6\" and self.current_account:\n",
    "                self.logout()\n",
    "            else:\n",
    "                print(\"Invalid choice. Please try again.\")\n",
    "\n",
    "\n"
   ]
  },
  {
   "cell_type": "code",
   "execution_count": null,
   "metadata": {},
   "outputs": [],
   "source": [
    "# Create ATM instance and add some accounts\n",
    "atm = ATM()\n",
    "atm.add_account(\"1234\", 1000)\n",
    "atm.add_account(\"5678\", 500)\n",
    "\n",
    "# Start ATM\n",
    "atm.handle_menu()"
   ]
  }
 ],
 "metadata": {
  "kernelspec": {
   "display_name": "Python 3",
   "language": "python",
   "name": "python3"
  },
  "language_info": {
   "codemirror_mode": {
    "name": "ipython",
    "version": 3
   },
   "file_extension": ".py",
   "mimetype": "text/x-python",
   "name": "python",
   "nbconvert_exporter": "python",
   "pygments_lexer": "ipython3",
   "version": "3.12.4"
  }
 },
 "nbformat": 4,
 "nbformat_minor": 2
}
